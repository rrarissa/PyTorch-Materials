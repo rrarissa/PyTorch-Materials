{
 "cells": [
  {
   "cell_type": "code",
   "execution_count": null,
   "id": "0ea26fbf-43d8-41ca-a3c7-6bc5c19ab25b",
   "metadata": {},
   "outputs": [],
   "source": [
    "# 1D 2D 3D tensors"
   ]
  },
  {
   "cell_type": "code",
   "execution_count": null,
   "id": "9ea87ac3-aa26-46d4-8dbf-36be9b9534e9",
   "metadata": {},
   "outputs": [],
   "source": [
    "# scalar - single number\n",
    "# 1d array - vector\n",
    "# 2d array matrix\n",
    "# 3d tensor - tensor"
   ]
  },
  {
   "cell_type": "code",
   "execution_count": 1,
   "id": "016788a3-33e3-4199-8642-2f4e8aa8b14a",
   "metadata": {},
   "outputs": [],
   "source": [
    "import torch\n",
    "import numpy as np"
   ]
  },
  {
   "cell_type": "code",
   "execution_count": 3,
   "id": "8f34a1e9-0068-4bd3-8c18-af752aea281f",
   "metadata": {},
   "outputs": [
    {
     "data": {
      "text/plain": [
       "'2.2.2'"
      ]
     },
     "execution_count": 3,
     "metadata": {},
     "output_type": "execute_result"
    }
   ],
   "source": [
    "torch.__version__"
   ]
  },
  {
   "cell_type": "markdown",
   "id": "3e6bed56-e2b8-4bdb-b474-008de14d66fe",
   "metadata": {},
   "source": [
    "## Converting NumPy arrays to PyTorch tensors\n"
   ]
  },
  {
   "cell_type": "code",
   "execution_count": 6,
   "id": "42ec1f0b-1040-414c-9a4d-2fabfe32562d",
   "metadata": {},
   "outputs": [
    {
     "name": "stdout",
     "output_type": "stream",
     "text": [
      "[1 2 3 4 5]\n",
      "int64\n",
      "<class 'numpy.ndarray'>\n"
     ]
    }
   ],
   "source": [
    "arr = np.array([1,2,3,4,5])\n",
    "print(arr)\n",
    "print(arr.dtype)\n",
    "print(type(arr))"
   ]
  },
  {
   "cell_type": "code",
   "execution_count": 8,
   "id": "39f20363-4bcb-4863-9d7f-8a4e1eebd206",
   "metadata": {},
   "outputs": [
    {
     "name": "stdout",
     "output_type": "stream",
     "text": [
      "tensor([1, 2, 3, 4, 5])\n"
     ]
    }
   ],
   "source": [
    "x = torch.from_numpy(arr)\n",
    "# Equivalent to x = torch.as_tensor(arr)\n",
    "\n",
    "print(x)"
   ]
  },
  {
   "cell_type": "code",
   "execution_count": 10,
   "id": "6fc772a1-fee5-4540-bf21-0902e6047cb1",
   "metadata": {},
   "outputs": [
    {
     "name": "stdout",
     "output_type": "stream",
     "text": [
      "torch.int64\n"
     ]
    }
   ],
   "source": [
    "# Print the type of data held by the tensor\n",
    "print(x.dtype)"
   ]
  },
  {
   "cell_type": "code",
   "execution_count": 12,
   "id": "4277fa61-be0e-427e-a1c6-84c63d1e93e0",
   "metadata": {},
   "outputs": [
    {
     "name": "stdout",
     "output_type": "stream",
     "text": [
      "[[ 0.  1.  2.]\n",
      " [ 3.  4.  5.]\n",
      " [ 6.  7.  8.]\n",
      " [ 9. 10. 11.]]\n"
     ]
    }
   ],
   "source": [
    "arr2 = np.arange(0.,12.).reshape(4,3)\n",
    "print(arr2)"
   ]
  },
  {
   "cell_type": "code",
   "execution_count": 14,
   "id": "3505b688-2e1c-4635-a8d6-c1b955124f26",
   "metadata": {},
   "outputs": [
    {
     "name": "stdout",
     "output_type": "stream",
     "text": [
      "tensor([[ 0.,  1.,  2.],\n",
      "        [ 3.,  4.,  5.],\n",
      "        [ 6.,  7.,  8.],\n",
      "        [ 9., 10., 11.]], dtype=torch.float64)\n",
      "torch.DoubleTensor\n"
     ]
    }
   ],
   "source": [
    "x2 = torch.from_numpy(arr2)\n",
    "print(x2)\n",
    "print(x2.type())"
   ]
  },
  {
   "cell_type": "code",
   "execution_count": 18,
   "id": "4b59d5c8-2552-4cfe-b99a-2c35d034d1f8",
   "metadata": {},
   "outputs": [
    {
     "name": "stdout",
     "output_type": "stream",
     "text": [
      "tensor([[ 0.0000e+00, -8.5899e+09,  6.4936e+01],\n",
      "        [-1.0845e-19,  2.5126e-37,  1.9034e-34],\n",
      "        [ 1.5588e-41,  6.8611e-34,  2.5130e-37],\n",
      "        [ 1.4013e-45,  1.0620e-32,  1.4013e-45]])\n"
     ]
    }
   ],
   "source": [
    "x = torch.empty(4, 3)\n",
    "print(x)"
   ]
  },
  {
   "cell_type": "code",
   "execution_count": 20,
   "id": "7cdac1eb-add5-4c78-a88d-dca57e4d038a",
   "metadata": {},
   "outputs": [
    {
     "name": "stdout",
     "output_type": "stream",
     "text": [
      "tensor([[0, 0, 0],\n",
      "        [0, 0, 0],\n",
      "        [0, 0, 0],\n",
      "        [0, 0, 0]])\n"
     ]
    }
   ],
   "source": [
    "x = torch.zeros(4, 3, dtype=torch.int64)\n",
    "print(x)"
   ]
  },
  {
   "cell_type": "code",
   "execution_count": 22,
   "id": "ffe57d10-1349-40f4-aa82-b2f6f3228015",
   "metadata": {},
   "outputs": [
    {
     "name": "stdout",
     "output_type": "stream",
     "text": [
      "tensor([[ 0,  2,  4],\n",
      "        [ 6,  8, 10],\n",
      "        [12, 14, 16]])\n"
     ]
    }
   ],
   "source": [
    "x = torch.arange(0,18,2).reshape(3,3)\n",
    "print(x)"
   ]
  },
  {
   "cell_type": "code",
   "execution_count": 24,
   "id": "762024b5-b087-446e-8a89-013550289a2c",
   "metadata": {},
   "outputs": [
    {
     "name": "stdout",
     "output_type": "stream",
     "text": [
      "tensor([[ 0.0000,  1.6364,  3.2727,  4.9091],\n",
      "        [ 6.5455,  8.1818,  9.8182, 11.4545],\n",
      "        [13.0909, 14.7273, 16.3636, 18.0000]])\n"
     ]
    }
   ],
   "source": [
    "x = torch.linspace(0,18,12).reshape(3,4)\n",
    "print(x)"
   ]
  },
  {
   "cell_type": "code",
   "execution_count": 26,
   "id": "89ec96a2-b407-4521-946d-d4cc21fbce04",
   "metadata": {},
   "outputs": [
    {
     "name": "stdout",
     "output_type": "stream",
     "text": [
      "tensor([1, 2, 3, 4])\n",
      "torch.int64\n",
      "torch.LongTensor\n"
     ]
    }
   ],
   "source": [
    "x = torch.tensor([1, 2, 3, 4])\n",
    "print(x)\n",
    "print(x.dtype)\n",
    "print(x.type())"
   ]
  },
  {
   "cell_type": "code",
   "execution_count": 28,
   "id": "e1a2af48-4a56-4cc3-a849-858080622c84",
   "metadata": {},
   "outputs": [
    {
     "name": "stdout",
     "output_type": "stream",
     "text": [
      "tensor([5., 6., 7.])\n",
      "torch.float32\n",
      "torch.FloatTensor\n"
     ]
    }
   ],
   "source": [
    "x = torch.FloatTensor([5,6,7])\n",
    "print(x)\n",
    "print(x.dtype)\n",
    "print(x.type())"
   ]
  },
  {
   "cell_type": "markdown",
   "id": "c544af22-7434-4485-98b6-cdb891efd11b",
   "metadata": {},
   "source": [
    "# Linear Regression with PyTorch\n"
   ]
  },
  {
   "cell_type": "code",
   "execution_count": 30,
   "id": "0fe806dc-0879-44dd-9302-750b93d1f319",
   "metadata": {},
   "outputs": [],
   "source": [
    "import torch\n",
    "import torch.nn as nn  # we'll use this a lot going forward!\n",
    "\n",
    "import numpy as np\n",
    "import matplotlib.pyplot as plt\n",
    "%matplotlib inline"
   ]
  },
  {
   "cell_type": "code",
   "execution_count": 33,
   "id": "7e8b673f-dbc7-41b5-84f0-914d088523bb",
   "metadata": {},
   "outputs": [],
   "source": [
    "X = torch.linspace(1,50,50).reshape(-1,1)\n",
    "\n",
    "# Equivalent to\n",
    "# X = torch.unsqueeze(torch.linspace(1,50,50), dim=1)"
   ]
  },
  {
   "cell_type": "code",
   "execution_count": 35,
   "id": "91c0ee09-5ae9-444e-a6d6-fbec6ea7b169",
   "metadata": {},
   "outputs": [
    {
     "name": "stdout",
     "output_type": "stream",
     "text": [
      "tensor(0.)\n"
     ]
    }
   ],
   "source": [
    "torch.manual_seed(71) # to obtain reproducible results\n",
    "e = torch.randint(-8,9,(50,1),dtype=torch.float)\n",
    "print(e.sum())"
   ]
  },
  {
   "cell_type": "code",
   "execution_count": 37,
   "id": "cc72e942-20e8-4c51-9465-59fe501dfb64",
   "metadata": {},
   "outputs": [
    {
     "name": "stdout",
     "output_type": "stream",
     "text": [
      "torch.Size([50, 1])\n"
     ]
    }
   ],
   "source": [
    "y = 2*X + 1 + e\n",
    "print(y.shape)"
   ]
  },
  {
   "cell_type": "code",
   "execution_count": 39,
   "id": "cb0ca2b2-9db9-4c53-94ab-a8703a566d77",
   "metadata": {},
   "outputs": [
    {
     "data": {
      "image/png": "[encoded data removed]",
      "text/plain": [
       "<Figure size 640x480 with 1 Axes>"
      ]
     },
     "metadata": {},
     "output_type": "display_data"
    }
   ],
   "source": [
    "plt.scatter(X.numpy(), y.numpy())\n",
    "plt.ylabel('y')\n",
    "plt.xlabel('x');"
   ]
  },
  {
   "cell_type": "code",
   "execution_count": 41,
   "id": "dceaa315-19e9-4260-86c5-d313fed52848",
   "metadata": {},
   "outputs": [
    {
     "name": "stdout",
     "output_type": "stream",
     "text": [
      "Parameter containing:\n",
      "tensor([[0.1060]], requires_grad=True)\n",
      "Parameter containing:\n",
      "tensor([0.9638], requires_grad=True)\n"
     ]
    }
   ],
   "source": [
    "torch.manual_seed(59)\n",
    "\n",
    "# number of feature in, number of feature out \n",
    "model = nn.Linear(in_features=1, out_features=1)\n",
    "print(model.weight)\n",
    "print(model.bias)"
   ]
  },
  {
   "cell_type": "markdown",
   "id": "76fa016d-3cf3-475b-bdd2-5269bd303e71",
   "metadata": {},
   "source": [
    "# Model classes\n"
   ]
  },
  {
   "cell_type": "code",
   "execution_count": 46,
   "id": "6511ebcf-6b7d-432a-854e-826b709eda31",
   "metadata": {},
   "outputs": [],
   "source": [
    "# inherit from nn.Module\n",
    "class Model(nn.Module):\n",
    "    def __init__(self, in_features, out_features):\n",
    "        super().__init__()\n",
    "        self.linear = nn.Linear(in_features, out_features)\n",
    "        \n",
    "    def forward(self, x):\n",
    "        y_pred = self.linear(x)\n",
    "        return y_pred"
   ]
  },
  {
   "cell_type": "markdown",
   "id": "28693259-d656-4b7d-add4-52d992e3e766",
   "metadata": {},
   "source": [
    "<div class=\"alert alert-info\"><strong>NOTE:</strong> The \"Linear\" model layer used here doesn't really refer to linear regression. Instead, it describes the type of neural network layer employed. Linear layers are also called \"fully connected\" or \"dense\" layers. Going forward our models may contain linear layers, convolutional layers, and more.</div>"
   ]
  },
  {
   "cell_type": "code",
   "execution_count": 49,
   "id": "a3d949ec-8bdb-47f5-9239-581f549d87c1",
   "metadata": {},
   "outputs": [
    {
     "name": "stdout",
     "output_type": "stream",
     "text": [
      "Model(\n",
      "  (linear): Linear(in_features=1, out_features=1, bias=True)\n",
      ")\n",
      "Weight: 0.10597813129425049\n",
      "Bias:   0.9637961387634277\n"
     ]
    }
   ],
   "source": [
    "torch.manual_seed(59)\n",
    "model = Model(1, 1)\n",
    "print(model)\n",
    "print('Weight:', model.linear.weight.item())\n",
    "print('Bias:  ', model.linear.bias.item())"
   ]
  },
  {
   "cell_type": "code",
   "execution_count": 51,
   "id": "1cfc406f-b6e5-4d4f-9250-2593003105b9",
   "metadata": {},
   "outputs": [
    {
     "name": "stdout",
     "output_type": "stream",
     "text": [
      "linear.weight \t 0.10597813129425049\n",
      "linear.bias \t 0.9637961387634277\n"
     ]
    }
   ],
   "source": [
    "for name, param in model.named_parameters():\n",
    "    print(name, '\\t', param.item())"
   ]
  },
  {
   "cell_type": "code",
   "execution_count": 53,
   "id": "49f88e88-c2ec-4d69-9bdb-ab08ba727fb9",
   "metadata": {},
   "outputs": [
    {
     "name": "stdout",
     "output_type": "stream",
     "text": [
      "tensor([1.1758], grad_fn=<ViewBackward0>)\n"
     ]
    }
   ],
   "source": [
    "x = torch.tensor([2.0])\n",
    "print(model.forward(x))   # equivalent to print(model(x))"
   ]
  },
  {
   "cell_type": "markdown",
   "id": "6da8ec5b-a9d9-4f75-ad72-a237dd5f86b3",
   "metadata": {},
   "source": [
    "which is confirmed with $f(x) = (0.1060)(2.0)+(0.9638) = 1.1758$"
   ]
  },
  {
   "cell_type": "code",
   "execution_count": 58,
   "id": "ae8a3008-07ae-4824-82f9-4b6664d4cd82",
   "metadata": {},
   "outputs": [
    {
     "name": "stdout",
     "output_type": "stream",
     "text": [
      "[ 1. 50.]\n"
     ]
    }
   ],
   "source": [
    "x1 = np.array([X.min(),X.max()])\n",
    "print(x1)"
   ]
  },
  {
   "cell_type": "code",
   "execution_count": 62,
   "id": "10cebf1f-374a-4a4e-8078-7eafb8651e50",
   "metadata": {},
   "outputs": [
    {
     "name": "stdout",
     "output_type": "stream",
     "text": [
      "Initial weight: 0.10597813, Initial bias: 0.96379614\n",
      "\n",
      "[1.0697743 6.2627025]\n"
     ]
    }
   ],
   "source": [
    "# base on the current random weight and biases, how the model looks like\n",
    "w1,b1 = model.linear.weight.item(), model.linear.bias.item()\n",
    "print(f'Initial weight: {w1:.8f}, Initial bias: {b1:.8f}')\n",
    "print()\n",
    "\n",
    "y1 = x1*w1 + b1\n",
    "print(y1)"
   ]
  },
  {
   "cell_type": "code",
   "execution_count": 64,
   "id": "72f50b70-f7ee-4dc9-9f46-7d67f32ff51e",
   "metadata": {},
   "outputs": [
    {
     "data": {
      "image/png": "[encoded data removed]",
      "text/plain": [
       "<Figure size 640x480 with 1 Axes>"
      ]
     },
     "metadata": {},
     "output_type": "display_data"
    }
   ],
   "source": [
    "plt.scatter(X.numpy(), y.numpy())\n",
    "plt.plot(x1,y1,'r')\n",
    "plt.title('Initial Model')\n",
    "plt.ylabel('y')\n",
    "plt.xlabel('x');"
   ]
  },
  {
   "cell_type": "markdown",
   "id": "282597ba-87ce-459f-9e7f-4f3ce253eb62",
   "metadata": {},
   "source": [
    "## Set the loss function\n"
   ]
  },
  {
   "cell_type": "code",
   "execution_count": 67,
   "id": "05cae8c6-e288-4613-aa9f-b2b678df9925",
   "metadata": {},
   "outputs": [],
   "source": [
    "criterion = nn.MSELoss()"
   ]
  },
  {
   "cell_type": "code",
   "execution_count": 69,
   "id": "c28020e7-01d7-46eb-8869-ef82d3966997",
   "metadata": {},
   "outputs": [],
   "source": [
    "optimizer = torch.optim.SGD(model.parameters(), lr = 0.001)\n",
    "\n",
    "# You'll sometimes see this as\n",
    "# optimizer = torch.optim.SGD(model.parameters(), lr = 1e-3)"
   ]
  },
  {
   "cell_type": "code",
   "execution_count": 75,
   "id": "18b7724f-7fcb-4850-b30f-3773dfc1f623",
   "metadata": {},
   "outputs": [
    {
     "name": "stdout",
     "output_type": "stream",
     "text": [
      "epoch:  1  loss: 21.05800056  weight: 1.98381913  bias: 1.05575156\n",
      "epoch:  2  loss: 21.05748940  weight: 1.98379850  bias: 1.05646527\n",
      "epoch:  3  loss: 21.05697823  weight: 1.98377669  bias: 1.05717862\n",
      "epoch:  4  loss: 21.05646896  weight: 1.98375595  bias: 1.05789161\n",
      "epoch:  5  loss: 21.05595970  weight: 1.98373449  bias: 1.05860424\n",
      "epoch:  6  loss: 21.05545807  weight: 1.98371363  bias: 1.05931652\n",
      "epoch:  7  loss: 21.05495071  weight: 1.98369217  bias: 1.06002843\n",
      "epoch:  8  loss: 21.05444336  weight: 1.98367131  bias: 1.06074011\n",
      "epoch:  9  loss: 21.05393600  weight: 1.98364997  bias: 1.06145144\n",
      "epoch: 10  loss: 21.05343437  weight: 1.98362887  bias: 1.06216240\n",
      "epoch: 11  loss: 21.05292511  weight: 1.98360777  bias: 1.06287301\n",
      "epoch: 12  loss: 21.05242157  weight: 1.98358667  bias: 1.06358325\n",
      "epoch: 13  loss: 21.05191803  weight: 1.98356557  bias: 1.06429315\n",
      "epoch: 14  loss: 21.05141449  weight: 1.98354459  bias: 1.06500268\n",
      "epoch: 15  loss: 21.05091095  weight: 1.98352337  bias: 1.06571186\n",
      "epoch: 16  loss: 21.05040359  weight: 1.98350239  bias: 1.06642079\n",
      "epoch: 17  loss: 21.04990196  weight: 1.98348129  bias: 1.06712937\n",
      "epoch: 18  loss: 21.04940033  weight: 1.98346019  bias: 1.06783760\n",
      "epoch: 19  loss: 21.04889870  weight: 1.98343933  bias: 1.06854546\n",
      "epoch: 20  loss: 21.04839897  weight: 1.98341823  bias: 1.06925297\n",
      "epoch: 21  loss: 21.04789543  weight: 1.98339725  bias: 1.06996012\n",
      "epoch: 22  loss: 21.04739761  weight: 1.98337615  bias: 1.07066691\n",
      "epoch: 23  loss: 21.04689789  weight: 1.98335540  bias: 1.07137334\n",
      "epoch: 24  loss: 21.04639626  weight: 1.98333418  bias: 1.07207942\n",
      "epoch: 25  loss: 21.04590034  weight: 1.98331320  bias: 1.07278526\n",
      "epoch: 26  loss: 21.04540443  weight: 1.98329246  bias: 1.07349074\n",
      "epoch: 27  loss: 21.04490280  weight: 1.98327124  bias: 1.07419586\n",
      "epoch: 28  loss: 21.04440689  weight: 1.98325062  bias: 1.07490063\n",
      "epoch: 29  loss: 21.04391098  weight: 1.98322940  bias: 1.07560503\n",
      "epoch: 30  loss: 21.04341507  weight: 1.98320866  bias: 1.07630908\n",
      "epoch: 31  loss: 21.04292297  weight: 1.98318768  bias: 1.07701278\n",
      "epoch: 32  loss: 21.04242516  weight: 1.98316681  bias: 1.07771623\n",
      "epoch: 33  loss: 21.04193306  weight: 1.98314595  bias: 1.07841933\n",
      "epoch: 34  loss: 21.04143715  weight: 1.98312485  bias: 1.07912207\n",
      "epoch: 35  loss: 21.04093933  weight: 1.98310423  bias: 1.07982445\n",
      "epoch: 36  loss: 21.04045486  weight: 1.98308313  bias: 1.08052647\n",
      "epoch: 37  loss: 21.03996086  weight: 1.98306239  bias: 1.08122814\n",
      "epoch: 38  loss: 21.03946304  weight: 1.98304164  bias: 1.08192945\n",
      "epoch: 39  loss: 21.03897476  weight: 1.98302066  bias: 1.08263052\n",
      "epoch: 40  loss: 21.03848457  weight: 1.98299992  bias: 1.08333123\n",
      "epoch: 41  loss: 21.03799057  weight: 1.98297930  bias: 1.08403158\n",
      "epoch: 42  loss: 21.03750420  weight: 1.98295832  bias: 1.08473158\n",
      "epoch: 43  loss: 21.03701019  weight: 1.98293757  bias: 1.08543122\n",
      "epoch: 44  loss: 21.03651810  weight: 1.98291671  bias: 1.08613050\n",
      "epoch: 45  loss: 21.03603554  weight: 1.98289609  bias: 1.08682954\n",
      "epoch: 46  loss: 21.03554726  weight: 1.98287511  bias: 1.08752823\n",
      "epoch: 47  loss: 21.03505707  weight: 1.98285460  bias: 1.08822656\n",
      "epoch: 48  loss: 21.03456879  weight: 1.98283374  bias: 1.08892453\n",
      "epoch: 49  loss: 21.03408241  weight: 1.98281300  bias: 1.08962214\n",
      "epoch: 50  loss: 21.03359604  weight: 1.98279238  bias: 1.09031940\n"
     ]
    }
   ],
   "source": [
    "epochs = 50\n",
    "losses = []\n",
    "\n",
    "for i in range(epochs):\n",
    "    i+=1\n",
    "    # predict on the forward pass \n",
    "    y_pred = model.forward(X)\n",
    "    loss = criterion(y_pred, y)\n",
    "    losses.append(loss)\n",
    "    print(f'epoch: {i:2}  loss: {loss.item():10.8f}  weight: {model.linear.weight.item():10.8f}  \\\n",
    "bias: {model.linear.bias.item():10.8f}') \n",
    "    # reset gradient\n",
    "    optimizer.zero_grad()\n",
    "    loss.backward()\n",
    "    # update hyperparameters\n",
    "    optimizer.step()"
   ]
  },
  {
   "cell_type": "code",
   "execution_count": 79,
   "id": "aade1296-0745-4d2e-ae50-02de53f26fe9",
   "metadata": {},
   "outputs": [
    {
     "name": "stdout",
     "output_type": "stream",
     "text": [
      "Current weight: 1.98277164, Current bias: 1.09101629\n",
      "\n",
      "[ 1. 50.]\n",
      "[  3.073788 100.2296  ]\n"
     ]
    }
   ],
   "source": [
    "w1,b1 = model.linear.weight.item(), model.linear.bias.item()\n",
    "print(f'Current weight: {w1:.8f}, Current bias: {b1:.8f}')\n",
    "print()\n",
    "\n",
    "y1 = x1*w1 + b1\n",
    "print(x1)\n",
    "print(y1)"
   ]
  },
  {
   "cell_type": "code",
   "execution_count": 81,
   "id": "270d0218-b534-4a57-9a81-ebe135407295",
   "metadata": {},
   "outputs": [
    {
     "data": {
      "image/png": "[encoded data removed]",
      "text/plain": [
       "<Figure size 640x480 with 1 Axes>"
      ]
     },
     "metadata": {},
     "output_type": "display_data"
    }
   ],
   "source": [
    "plt.scatter(X.numpy(), y.numpy())\n",
    "plt.plot(x1,y1,'r')\n",
    "plt.title('Current Model')\n",
    "plt.ylabel('y')\n",
    "plt.xlabel('x');"
   ]
  },
  {
   "cell_type": "code",
   "execution_count": null,
   "id": "6d85cf0e-eba0-4582-b1d3-ae64e0062926",
   "metadata": {},
   "outputs": [],
   "source": []
  },
  {
   "cell_type": "code",
   "execution_count": null,
   "id": "6e44f7d2-7300-48a0-baad-1300f9a09b01",
   "metadata": {},
   "outputs": [],
   "source": []
  },
  {
   "cell_type": "code",
   "execution_count": null,
   "id": "13ef1020-e4c2-46b0-973e-7390ef937d14",
   "metadata": {},
   "outputs": [],
   "source": []
  },
  {
   "cell_type": "code",
   "execution_count": null,
   "id": "985919f0-aff1-46fc-8004-3f0d1b1e1c82",
   "metadata": {},
   "outputs": [],
   "source": []
  },
  {
   "cell_type": "code",
   "execution_count": null,
   "id": "fa2f2d6c-3982-4644-addb-ece4a46e9a37",
   "metadata": {},
   "outputs": [],
   "source": []
  },
  {
   "cell_type": "code",
   "execution_count": null,
   "id": "f4303813-093e-4140-a358-3a7f6f4c49b2",
   "metadata": {},
   "outputs": [],
   "source": []
  }
 ],
 "metadata": {
  "kernelspec": {
   "display_name": "Python 3 (ipykernel)",
   "language": "python",
   "name": "python3"
  },
  "language_info": {
   "codemirror_mode": {
    "name": "ipython",
    "version": 3
   },
   "file_extension": ".py",
   "mimetype": "text/x-python",
   "name": "python",
   "nbconvert_exporter": "python",
   "pygments_lexer": "ipython3",
   "version": "3.12.4"
  }
 },
 "nbformat": 4,
 "nbformat_minor": 5
}
