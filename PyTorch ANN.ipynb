{
 "cells": [
  {
   "cell_type": "markdown",
   "id": "60c2f336-2887-4e10-b778-9f5c8667228d",
   "metadata": {},
   "source": [
    "# Datasets with PyTorch\n"
   ]
  },
  {
   "cell_type": "code",
   "execution_count": 10,
   "id": "19b9fdea-4d86-4172-abf7-63498bfecb16",
   "metadata": {},
   "outputs": [],
   "source": [
    "import torch\n",
    "import numpy as np\n",
    "import pandas as pd\n",
    "import matplotlib.pyplot as plt\n",
    "import sklearn as scikit_learn\n",
    "%matplotlib inline"
   ]
  },
  {
   "cell_type": "code",
   "execution_count": 44,
   "id": "2584c26d-494c-40b6-8132-53f86e4daca1",
   "metadata": {},
   "outputs": [],
   "source": [
    "from sklearn.datasets import load_iris\n",
    "df = load_iris()"
   ]
  },
  {
   "cell_type": "code",
   "execution_count": 46,
   "id": "67ff9ec5-c99f-4888-ba7e-e3060116de4c",
   "metadata": {},
   "outputs": [],
   "source": [
    "df = pd.DataFrame(data= np.c_[df['data'], df['target']],\n",
    "                     columns= df['feature_names'] + ['target'])"
   ]
  },
  {
   "cell_type": "code",
   "execution_count": 52,
   "id": "b8649704-1cc0-4493-9b2e-851fd4906ae4",
   "metadata": {},
   "outputs": [],
   "source": [
    "X = df.drop('target',axis=1).values\n",
    "y = df['target'].values\n",
    "\n",
    "X_train, X_test, y_train, y_test = train_test_split(X,y,test_size=0.2,random_state=33)\n",
    "\n",
    "X_train = torch.FloatTensor(X_train)\n",
    "X_test = torch.FloatTensor(X_test)\n",
    "# y_train = F.one_hot(torch.LongTensor(y_train))  # not needed with Cross Entropy Loss\n",
    "# y_test = F.one_hot(torch.LongTensor(y_test))\n",
    "y_train = torch.LongTensor(y_train)\n",
    "y_test = torch.LongTensor(y_test)"
   ]
  },
  {
   "cell_type": "code",
   "execution_count": null,
   "id": "6c44a4f6-1ace-490d-80eb-42b9c548cf59",
   "metadata": {},
   "outputs": [],
   "source": []
  },
  {
   "cell_type": "code",
   "execution_count": 37,
   "id": "941cab53-7045-4f20-84ee-ae483e47d883",
   "metadata": {},
   "outputs": [],
   "source": [
    "import torch\n",
    "import torch.nn as nn\n",
    "import torch.nn.functional as F\n",
    "from torch.utils.data import Dataset, DataLoader\n",
    "from sklearn.model_selection import train_test_split\n",
    "\n",
    "import pandas as pd\n",
    "import matplotlib.pyplot as plt\n",
    "%matplotlib inline"
   ]
  },
  {
   "cell_type": "code",
   "execution_count": 39,
   "id": "a0ececaf-f7a1-43a1-b8b0-d9398f85f194",
   "metadata": {},
   "outputs": [],
   "source": [
    "class Model(nn.Module):\n",
    "    # 4 features, 8 neurons in first hidden layer, 9 neurons in 2nd layer, 3 output features \n",
    "    def __init__(self, in_features=4, h1=8, h2=9, out_features=3):\n",
    "        # how many layers?\n",
    "        super().__init__()\n",
    "        self.fc1 = nn.Linear(in_features,h1)    # input layer\n",
    "        self.fc2 = nn.Linear(h1, h2)            # hidden layer\n",
    "        self.out = nn.Linear(h2, out_features)  # output layer\n",
    "        \n",
    "    def forward(self, x):\n",
    "        # activation function\n",
    "        x = F.relu(self.fc1(x))\n",
    "        x = F.relu(self.fc2(x))\n",
    "        x = self.out(x)\n",
    "        return x"
   ]
  },
  {
   "cell_type": "code",
   "execution_count": 41,
   "id": "ee2403eb-5191-446d-9cbf-7b126f76dd62",
   "metadata": {},
   "outputs": [],
   "source": [
    "# Instantiate the Model class using parameter defaults:\n",
    "torch.manual_seed(32)\n",
    "model = Model()"
   ]
  },
  {
   "cell_type": "code",
   "execution_count": 56,
   "id": "f72fda2e-fea6-4e81-8048-593b2c347277",
   "metadata": {},
   "outputs": [],
   "source": [
    "criterion = nn.CrossEntropyLoss()\n",
    "optimizer = torch.optim.Adam(model.parameters(), lr=0.01)"
   ]
  },
  {
   "cell_type": "markdown",
   "id": "8cc62436-c788-495a-bd25-7fa044330f2d",
   "metadata": {},
   "source": [
    "## Train the model"
   ]
  },
  {
   "cell_type": "code",
   "execution_count": 58,
   "id": "6ec579dd-1303-4f4e-b7a4-b1dd1becb54d",
   "metadata": {},
   "outputs": [
    {
     "name": "stdout",
     "output_type": "stream",
     "text": [
      "epoch:  1  loss: 1.15074503\n",
      "epoch: 11  loss: 0.93714488\n",
      "epoch: 21  loss: 0.77962416\n",
      "epoch: 31  loss: 0.60785323\n",
      "epoch: 41  loss: 0.39894527\n",
      "epoch: 51  loss: 0.25249198\n",
      "epoch: 61  loss: 0.14927688\n",
      "epoch: 71  loss: 0.10029560\n",
      "epoch: 81  loss: 0.08100693\n",
      "epoch: 91  loss: 0.07216033\n"
     ]
    }
   ],
   "source": [
    "epochs = 100\n",
    "losses = []\n",
    "\n",
    "for i in range(epochs):\n",
    "    i+=1\n",
    "    y_pred = model.forward(X_train)\n",
    "    loss = criterion(y_pred, y_train)\n",
    "    losses.append(loss)\n",
    "    \n",
    "    # a neat trick to save screen space:\n",
    "    if i%10 == 1:\n",
    "        print(f'epoch: {i:2}  loss: {loss.item():10.8f}')\n",
    "\n",
    "    optimizer.zero_grad()\n",
    "    loss.backward()\n",
    "    optimizer.step()"
   ]
  },
  {
   "cell_type": "code",
   "execution_count": 63,
   "id": "0cbb2b19-e835-4454-acdb-af8501271dc0",
   "metadata": {},
   "outputs": [
    {
     "name": "stdout",
     "output_type": "stream",
     "text": [
      "0.05816953\n"
     ]
    }
   ],
   "source": [
    "# TO EVALUATE THE ENTIRE TEST SET\n",
    "with torch.no_grad():\n",
    "    y_val = model.forward(X_test)\n",
    "    loss = criterion(y_val, y_test)\n",
    "print(f'{loss:.8f}')"
   ]
  },
  {
   "cell_type": "code",
   "execution_count": 65,
   "id": "ccb1f9ee-f203-4199-a867-5eb310130528",
   "metadata": {},
   "outputs": [
    {
     "name": "stdout",
     "output_type": "stream",
     "text": [
      " 1. tensor([-2.1234,  4.8067, -0.8803])     1\n",
      " 2. tensor([-1.7920,  5.3100, -1.5693])     1\n",
      " 3. tensor([  6.3723,   0.8741, -10.0971])  0\n",
      " 4. tensor([-3.9129,  4.5951,  1.1509])     1\n",
      " 5. tensor([-7.4882,  3.1953,  5.7839])     2\n",
      " 6. tensor([-10.5202,   1.6381,   9.6291])  2\n",
      " 7. tensor([  6.3364,   1.0237, -10.1951])  0\n",
      " 8. tensor([  7.0690,   0.7370, -10.9620])  0\n",
      " 9. tensor([-7.2218,  3.3422,  5.3528])     2\n",
      "10. tensor([-9.4170,  2.5675,  8.1028])     2\n",
      "11. tensor([-9.9029,  2.3388,  8.7141])     2\n",
      "12. tensor([ 6.2942,  0.6938, -9.8046])     0\n",
      "13. tensor([-9.3335,  2.1817,  8.1917])     2\n",
      "14. tensor([-3.7832,  4.5046,  1.0603])     1\n",
      "15. tensor([-7.8793,  3.0060,  6.2225])     2\n",
      "16. tensor([-1.8810,  5.1571, -1.3572])     1\n",
      "17. tensor([-5.7107,  3.5003,  3.6612])     2\n",
      "18. tensor([  7.2014,   0.7687, -11.1842])  0\n",
      "19. tensor([-3.2961,  4.7939,  0.3307])     1\n",
      "20. tensor([-7.7822,  3.7560,  5.7040])     2\n",
      "21. tensor([  6.6703,   0.8191, -10.4707])  0\n",
      "22. tensor([  7.4580,   0.9259, -11.7103])  0\n",
      "23. tensor([-9.7801,  2.1658,  8.6656])     2\n",
      "24. tensor([  6.5976,   0.7715, -10.3186])  0\n",
      "25. tensor([-7.4280,  2.8654,  5.9396])     2\n",
      "26. tensor([-6.1649,  3.3994,  4.2207])     2\n",
      "27. tensor([-3.1644,  4.7467,  0.2535])     1\n",
      "28. tensor([-1.5378,  4.9042, -1.5792])     1\n",
      "29. tensor([-7.4479,  3.1046,  5.7293])     2\n",
      "30. tensor([-6.7186,  3.1143,  4.9560])     2\n",
      "\n",
      "30 out of 30 = 100.00% correct\n"
     ]
    }
   ],
   "source": [
    "correct = 0\n",
    "with torch.no_grad():\n",
    "    for i,data in enumerate(X_test):\n",
    "        y_val = model.forward(data)\n",
    "        print(f'{i+1:2}. {str(y_val):38}  {y_test[i]}')\n",
    "        if y_val.argmax().item() == y_test[i]:\n",
    "            correct += 1\n",
    "print(f'\\n{correct} out of {len(y_test)} = {100*correct/len(y_test):.2f}% correct')"
   ]
  },
  {
   "cell_type": "code",
   "execution_count": 73,
   "id": "9b5668fd-dcc2-4485-95f5-579d9ae1501a",
   "metadata": {},
   "outputs": [],
   "source": [
    "torch.save(model, 'IrisDatasetModel.pt')"
   ]
  },
  {
   "cell_type": "code",
   "execution_count": null,
   "id": "87e28c78-722a-48e2-a4b7-d0e5455db81b",
   "metadata": {},
   "outputs": [],
   "source": []
  },
  {
   "cell_type": "code",
   "execution_count": null,
   "id": "076a0d8a-ad83-45f2-8516-ffec1ea54094",
   "metadata": {},
   "outputs": [],
   "source": []
  },
  {
   "cell_type": "code",
   "execution_count": null,
   "id": "e6a10b4e-5a41-4f86-a7bd-eca1ce4f515b",
   "metadata": {},
   "outputs": [],
   "source": []
  },
  {
   "cell_type": "code",
   "execution_count": null,
   "id": "c12081d5-459f-4b88-b956-fd80ca21a27f",
   "metadata": {},
   "outputs": [],
   "source": []
  },
  {
   "cell_type": "code",
   "execution_count": null,
   "id": "d9fdabba-1447-4928-a95c-365718f0db81",
   "metadata": {},
   "outputs": [],
   "source": []
  },
  {
   "cell_type": "code",
   "execution_count": null,
   "id": "c0feee81-ec85-4045-b8e1-e7bd1e1ed1ff",
   "metadata": {},
   "outputs": [],
   "source": []
  },
  {
   "cell_type": "code",
   "execution_count": null,
   "id": "17461f59-c27c-49c2-861f-919e5eeb5668",
   "metadata": {},
   "outputs": [],
   "source": []
  },
  {
   "cell_type": "code",
   "execution_count": null,
   "id": "d623c175-13ae-46d0-ba78-31d5c22099ef",
   "metadata": {},
   "outputs": [],
   "source": []
  },
  {
   "cell_type": "code",
   "execution_count": null,
   "id": "5704a251-d2fa-41e5-a506-df33a85b73f3",
   "metadata": {},
   "outputs": [],
   "source": []
  }
 ],
 "metadata": {
  "kernelspec": {
   "display_name": "Python 3 (ipykernel)",
   "language": "python",
   "name": "python3"
  },
  "language_info": {
   "codemirror_mode": {
    "name": "ipython",
    "version": 3
   },
   "file_extension": ".py",
   "mimetype": "text/x-python",
   "name": "python",
   "nbconvert_exporter": "python",
   "pygments_lexer": "ipython3",
   "version": "3.12.4"
  }
 },
 "nbformat": 4,
 "nbformat_minor": 5
}
